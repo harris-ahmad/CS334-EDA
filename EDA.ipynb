{
 "cells": [
  {
   "cell_type": "markdown",
   "metadata": {},
   "source": [
    "# Exploratory Data Analysis"
   ]
  },
  {
   "cell_type": "markdown",
   "metadata": {},
   "source": [
    "### Code Authors:\n",
    "Eimaan Saqib\n",
    "\n",
    "Harris Ahmad"
   ]
  },
  {
   "cell_type": "code",
   "execution_count": 90,
   "metadata": {},
   "outputs": [],
   "source": [
    "import pandas as pd\n",
    "import numpy as np\n",
    "from itertools import chain\n",
    "from pprint import pprint\n",
    "import matplotlib.pyplot as plt\n",
    "from matplotlib.pyplot import figure\n",
    "import seaborn as sns\n",
    "from scipy.interpolate import interp1d\n",
    "\n",
    "\n",
    "pd.set_option('display.max_colwidth', None)"
   ]
  },
  {
   "cell_type": "code",
   "execution_count": null,
   "metadata": {},
   "outputs": [],
   "source": [
    "# making the title column as index since it is unique for every row\n",
    "df = pd.read_csv('dataset.csv')\n",
    "# resetting the index so it starts from 1\n",
    "df.index = np.arange(1, len(df) + 1)\n",
    "# dropping unnamed columns that have nan as their only value\n",
    "df.drop(['Unnamed: 34', 'Unnamed: 35', 'Unnamed: 36'], axis=1, inplace=True)\n",
    "df.rename(columns={'strong_janguage':'strong_language'}, inplace=True)"
   ]
  },
  {
   "cell_type": "markdown",
   "metadata": {},
   "source": [
    "## Data Cleaning & Preprocessing"
   ]
  },
  {
   "cell_type": "code",
   "execution_count": null,
   "metadata": {},
   "outputs": [],
   "source": [
    "# dropping all rows with nan values\n",
    "df = df.dropna(axis=0)"
   ]
  },
  {
   "cell_type": "code",
   "execution_count": null,
   "metadata": {},
   "outputs": [],
   "source": [
    "def col_unique_count(col: pd.Series, ordered=False) -> dict:\n",
    "    temp = col.to_list()\n",
    "    temp = [list(t.split(',')) for t in temp]\n",
    "    temp = list(chain.from_iterable(temp))\n",
    "    temp = [t.strip() for t in temp]\n",
    "\n",
    "    count = {}\n",
    "    for t in temp:\n",
    "        if t in count:\n",
    "            count[t] += 1\n",
    "        else:\n",
    "            count[t] = 1\n",
    "    # if sorted flag is true, sort dict by values (descending)\n",
    "    if ordered:\n",
    "        count = dict(sorted(count.items(), key=lambda item: item[1], reverse=True))\n",
    "    return count"
   ]
  },
  {
   "cell_type": "markdown",
   "metadata": {},
   "source": [
    "#### Classifying games according to genres.\n",
    "Every unique genre would be on the x-axis and the count of each would be on the y-axis.\n",
    "Notice how every genre is a non-atomic value meaning that it could be divided into multiple genres (simplified).\n",
    "\n",
    "* some genres are vague to a great degree\n",
    "* since there are a lot of redundant values, we can select top 10 most popular genres"
   ]
  },
  {
   "cell_type": "code",
   "execution_count": null,
   "metadata": {},
   "outputs": [],
   "source": [
    "# this function returns the unique count of genres in \n",
    "genre_count = pd.Series(col_unique_count(df['genres'], True))"
   ]
  },
  {
   "cell_type": "code",
   "execution_count": null,
   "metadata": {},
   "outputs": [],
   "source": [
    "genre_count"
   ]
  },
  {
   "cell_type": "code",
   "execution_count": null,
   "metadata": {},
   "outputs": [],
   "source": [
    "genre_count = genre_count.to_dict()\n",
    "plt.figure(figsize=(30,70))\n",
    "y = list(genre_count.keys())\n",
    "x = list(genre_count.values())\n",
    "sns.barplot(x=x, y=y, orient='h')\n",
    "plt.title('Number of video games containing each genre')\n",
    "plt.show()"
   ]
  },
  {
   "cell_type": "markdown",
   "metadata": {},
   "source": [
    "How many games do developers on average release and what is their mean rating? Do developers with more games have a higher mean rating?"
   ]
  },
  {
   "cell_type": "code",
   "execution_count": null,
   "metadata": {},
   "outputs": [],
   "source": [
    "developer_count = pd.Series(col_unique_count(df['developers'], True))\n",
    "developer_count"
   ]
  },
  {
   "cell_type": "code",
   "execution_count": null,
   "metadata": {},
   "outputs": [],
   "source": [
    "user_ratings = {}\n",
    "for developer in developer_count.keys():\n",
    "    avg = np.mean(df[df['developers'].str.contains(developer)]['users_score'])\n",
    "    user_ratings[developer] = avg\n",
    "pd.Series(user_ratings)"
   ]
  },
  {
   "cell_type": "code",
   "execution_count": null,
   "metadata": {},
   "outputs": [],
   "source": [
    "meta_ratings = {}\n",
    "for developer in developer_count.keys():\n",
    "    avg = np.mean(df[df['developers'].str.contains(developer)]['metascritic_score'])\n",
    "    meta_ratings[developer] = avg\n",
    "pd.Series(meta_ratings)"
   ]
  },
  {
   "cell_type": "code",
   "execution_count": null,
   "metadata": {},
   "outputs": [],
   "source": [
    "x = list(developer_count.values())\n",
    "y1 = list(user_ratings.values())\n",
    "sns.regplot(x, y1, ci=None)\n",
    "plt.xlabel(\"Number of games developed by a developer\")\n",
    "plt.ylabel(\"Average user score on the games\")"
   ]
  },
  {
   "cell_type": "code",
   "execution_count": null,
   "metadata": {},
   "outputs": [],
   "source": [
    "y2 = list(meta_ratings.values())\n",
    "sns.regplot(x, y2, ci=None)\n",
    "plt.xlabel(\"Number of games developed by a developer\")\n",
    "plt.ylabel(\"Average metacritic score on the games\")"
   ]
  },
  {
   "cell_type": "markdown",
   "metadata": {},
   "source": [
    "How do the popular genres vary over the year?"
   ]
  },
  {
   "cell_type": "code",
   "execution_count": 21,
   "metadata": {},
   "outputs": [],
   "source": [
    "df['release_date'] = pd.to_datetime(df['release_date'], errors='coerce', format='%Y/%m/%d')"
   ]
  },
  {
   "cell_type": "code",
   "execution_count": 22,
   "metadata": {},
   "outputs": [
    {
     "data": {
      "text/plain": [
       "1       3.0\n",
       "2       5.0\n",
       "3       4.0\n",
       "4       3.0\n",
       "5       3.0\n",
       "       ... \n",
       "1635    1.0\n",
       "1638    3.0\n",
       "1639    8.0\n",
       "1641    8.0\n",
       "1642    8.0\n",
       "Name: release_date, Length: 1400, dtype: float64"
      ]
     },
     "execution_count": 22,
     "metadata": {},
     "output_type": "execute_result"
    }
   ],
   "source": [
    "months = df['release_date'].dt.month\n",
    "months"
   ]
  },
  {
   "cell_type": "code",
   "execution_count": 23,
   "metadata": {},
   "outputs": [],
   "source": [
    "month_map = {1:'Jan',2:'Feb',3:'Mar',4:'Apr',5:'May',6:'Jun',7:'Jul',8:'Aug',9:'Sep',10:'Oct',11:'Nov',12:'Dec'}"
   ]
  },
  {
   "cell_type": "code",
   "execution_count": 78,
   "metadata": {},
   "outputs": [],
   "source": [
    "popular_genres = {}\n",
    "for month in range(1,13):\n",
    "    month_df = df[df['release_date'].dt.month == month]\n",
    "    most_popular = []\n",
    "    popular_rating = -1*np.inf\n",
    "    for genre in genre_count:\n",
    "        avg = np.mean(month_df[month_df['genres'].str.contains(genre)]['metascritic_score'])\n",
    "        if avg > popular_rating:\n",
    "            most_popular = [genre]\n",
    "            popular_rating = avg\n",
    "        elif avg==popular_rating:\n",
    "            most_popular.append(genre)\n",
    "    popular_genres[month_map[month]] = {'genres':most_popular, 'Average Metacritic Score':popular_rating}"
   ]
  },
  {
   "cell_type": "code",
   "execution_count": 79,
   "metadata": {},
   "outputs": [
    {
     "data": {
      "text/html": [
       "<div>\n",
       "<style scoped>\n",
       "    .dataframe tbody tr th:only-of-type {\n",
       "        vertical-align: middle;\n",
       "    }\n",
       "\n",
       "    .dataframe tbody tr th {\n",
       "        vertical-align: top;\n",
       "    }\n",
       "\n",
       "    .dataframe thead th {\n",
       "        text-align: right;\n",
       "    }\n",
       "</style>\n",
       "<table border=\"1\" class=\"dataframe\">\n",
       "  <thead>\n",
       "    <tr style=\"text-align: right;\">\n",
       "      <th></th>\n",
       "      <th>genres</th>\n",
       "      <th>Average Metacritic Score</th>\n",
       "    </tr>\n",
       "  </thead>\n",
       "  <tbody>\n",
       "    <tr>\n",
       "      <th>Jan</th>\n",
       "      <td>Linear</td>\n",
       "      <td>93.0</td>\n",
       "    </tr>\n",
       "    <tr>\n",
       "      <th>Feb</th>\n",
       "      <td>Sandbox</td>\n",
       "      <td>89.0</td>\n",
       "    </tr>\n",
       "    <tr>\n",
       "      <th>Mar</th>\n",
       "      <td>Western-Style, PC-style RPG</td>\n",
       "      <td>89.0</td>\n",
       "    </tr>\n",
       "    <tr>\n",
       "      <th>Apr</th>\n",
       "      <td>Top-Down</td>\n",
       "      <td>85.0</td>\n",
       "    </tr>\n",
       "    <tr>\n",
       "      <th>May</th>\n",
       "      <td>GeneralAction</td>\n",
       "      <td>84.5</td>\n",
       "    </tr>\n",
       "    <tr>\n",
       "      <th>Jun</th>\n",
       "      <td>Virtual LifeSimulation</td>\n",
       "      <td>83.0</td>\n",
       "    </tr>\n",
       "    <tr>\n",
       "      <th>Jul</th>\n",
       "      <td>Stacking</td>\n",
       "      <td>90.0</td>\n",
       "    </tr>\n",
       "    <tr>\n",
       "      <th>Aug</th>\n",
       "      <td>4X, 4XStrategy</td>\n",
       "      <td>85.0</td>\n",
       "    </tr>\n",
       "    <tr>\n",
       "      <th>Sep</th>\n",
       "      <td>PinballAction, Pinball</td>\n",
       "      <td>89.0</td>\n",
       "    </tr>\n",
       "    <tr>\n",
       "      <th>Oct</th>\n",
       "      <td>Management, GovernmentStrategy, Government</td>\n",
       "      <td>87.0</td>\n",
       "    </tr>\n",
       "    <tr>\n",
       "      <th>Nov</th>\n",
       "      <td>4X, 4XStrategy</td>\n",
       "      <td>87.0</td>\n",
       "    </tr>\n",
       "    <tr>\n",
       "      <th>Dec</th>\n",
       "      <td>Modern</td>\n",
       "      <td>83.0</td>\n",
       "    </tr>\n",
       "  </tbody>\n",
       "</table>\n",
       "</div>"
      ],
      "text/plain": [
       "                                         genres Average Metacritic Score\n",
       "Jan                                      Linear                     93.0\n",
       "Feb                                     Sandbox                     89.0\n",
       "Mar                 Western-Style, PC-style RPG                     89.0\n",
       "Apr                                    Top-Down                     85.0\n",
       "May                               GeneralAction                     84.5\n",
       "Jun                      Virtual LifeSimulation                     83.0\n",
       "Jul                                    Stacking                     90.0\n",
       "Aug                              4X, 4XStrategy                     85.0\n",
       "Sep                      PinballAction, Pinball                     89.0\n",
       "Oct  Management, GovernmentStrategy, Government                     87.0\n",
       "Nov                              4X, 4XStrategy                     87.0\n",
       "Dec                                      Modern                     83.0"
      ]
     },
     "execution_count": 79,
     "metadata": {},
     "output_type": "execute_result"
    }
   ],
   "source": [
    "popular_genres=pd.DataFrame(popular_genres).transpose()\n",
    "popular_genres['genres'] = popular_genres['genres'].map(lambda x: ', '.join(x))\n",
    "popular_genres"
   ]
  },
  {
   "cell_type": "code",
   "execution_count": 65,
   "metadata": {},
   "outputs": [],
   "source": [
    "user_popular_genres = {}\n",
    "for month in range(1,13):\n",
    "    month_df = df[df['release_date'].dt.month == month]\n",
    "    most_popular = []\n",
    "    popular_rating = -1*np.inf\n",
    "    for genre in genre_count:\n",
    "        avg = np.mean(month_df[month_df['genres'].str.contains(genre)]['users_score'])\n",
    "        if avg > popular_rating:\n",
    "            most_popular = [genre]\n",
    "            popular_rating = avg\n",
    "        elif avg==popular_rating:\n",
    "            most_popular.append(genre)\n",
    "    user_popular_genres[month_map[month]] = {'genres':most_popular, 'average user score':popular_rating}"
   ]
  },
  {
   "cell_type": "code",
   "execution_count": 66,
   "metadata": {},
   "outputs": [
    {
     "data": {
      "text/html": [
       "<div>\n",
       "<style scoped>\n",
       "    .dataframe tbody tr th:only-of-type {\n",
       "        vertical-align: middle;\n",
       "    }\n",
       "\n",
       "    .dataframe tbody tr th {\n",
       "        vertical-align: top;\n",
       "    }\n",
       "\n",
       "    .dataframe thead th {\n",
       "        text-align: right;\n",
       "    }\n",
       "</style>\n",
       "<table border=\"1\" class=\"dataframe\">\n",
       "  <thead>\n",
       "    <tr style=\"text-align: right;\">\n",
       "      <th></th>\n",
       "      <th>genres</th>\n",
       "      <th>average user score</th>\n",
       "    </tr>\n",
       "  </thead>\n",
       "  <tbody>\n",
       "    <tr>\n",
       "      <th>Jan</th>\n",
       "      <td>Linear</td>\n",
       "      <td>8.6</td>\n",
       "    </tr>\n",
       "    <tr>\n",
       "      <th>Feb</th>\n",
       "      <td>Sandbox</td>\n",
       "      <td>8.7</td>\n",
       "    </tr>\n",
       "    <tr>\n",
       "      <th>Mar</th>\n",
       "      <td>GeneralAction Adventure</td>\n",
       "      <td>8.633333</td>\n",
       "    </tr>\n",
       "    <tr>\n",
       "      <th>Apr</th>\n",
       "      <td>Top-Down</td>\n",
       "      <td>8.3</td>\n",
       "    </tr>\n",
       "    <tr>\n",
       "      <th>May</th>\n",
       "      <td>GeneralAction Adventure</td>\n",
       "      <td>8.2</td>\n",
       "    </tr>\n",
       "    <tr>\n",
       "      <th>Jun</th>\n",
       "      <td>Metroidvania</td>\n",
       "      <td>8.9</td>\n",
       "    </tr>\n",
       "    <tr>\n",
       "      <th>Jul</th>\n",
       "      <td>Open-World</td>\n",
       "      <td>8.366667</td>\n",
       "    </tr>\n",
       "    <tr>\n",
       "      <th>Aug</th>\n",
       "      <td>Open-WorldAction Adventure</td>\n",
       "      <td>8.3</td>\n",
       "    </tr>\n",
       "    <tr>\n",
       "      <th>Sep</th>\n",
       "      <td>Visual NovelAction, Visual NovelAction Adventure</td>\n",
       "      <td>8.6</td>\n",
       "    </tr>\n",
       "    <tr>\n",
       "      <th>Oct</th>\n",
       "      <td>Visual NovelAdventure</td>\n",
       "      <td>8.4</td>\n",
       "    </tr>\n",
       "    <tr>\n",
       "      <th>Nov</th>\n",
       "      <td>Futuristic, FuturisticSports</td>\n",
       "      <td>8.3</td>\n",
       "    </tr>\n",
       "    <tr>\n",
       "      <th>Dec</th>\n",
       "      <td>Modern</td>\n",
       "      <td>8.6</td>\n",
       "    </tr>\n",
       "  </tbody>\n",
       "</table>\n",
       "</div>"
      ],
      "text/plain": [
       "                                               genres average user score\n",
       "Jan                                            Linear                8.6\n",
       "Feb                                           Sandbox                8.7\n",
       "Mar                           GeneralAction Adventure           8.633333\n",
       "Apr                                          Top-Down                8.3\n",
       "May                           GeneralAction Adventure                8.2\n",
       "Jun                                      Metroidvania                8.9\n",
       "Jul                                        Open-World           8.366667\n",
       "Aug                        Open-WorldAction Adventure                8.3\n",
       "Sep  Visual NovelAction, Visual NovelAction Adventure                8.6\n",
       "Oct                             Visual NovelAdventure                8.4\n",
       "Nov                      Futuristic, FuturisticSports                8.3\n",
       "Dec                                            Modern                8.6"
      ]
     },
     "execution_count": 66,
     "metadata": {},
     "output_type": "execute_result"
    }
   ],
   "source": [
    "user_popular_genres = pd.DataFrame(user_popular_genres).transpose()\n",
    "user_popular_genres['genres'] = user_popular_genres['genres'].map(lambda x: ', '.join(x))\n",
    "user_popular_genres"
   ]
  },
  {
   "cell_type": "markdown",
   "metadata": {},
   "source": [
    "How does this trend in genres vary over the years?"
   ]
  },
  {
   "cell_type": "code",
   "execution_count": 80,
   "metadata": {},
   "outputs": [],
   "source": [
    "all_years = np.sort(df['release_date'].dt.year.dropna().unique().astype(int))"
   ]
  },
  {
   "cell_type": "code",
   "execution_count": 92,
   "metadata": {},
   "outputs": [],
   "source": [
    "yearly_popular_genres = {}\n",
    "for year in all_years:\n",
    "    year_df = df[df['release_date'].dt.year == year]\n",
    "    most_popular = []\n",
    "    popular_rating = -1*np.inf\n",
    "    for genre in genre_count:\n",
    "        avg = np.mean(year_df[year_df['genres'].str.contains(genre)]['metascritic_score'])\n",
    "        if avg > popular_rating:\n",
    "            most_popular = [genre]\n",
    "            popular_rating = avg\n",
    "        elif avg==popular_rating:\n",
    "            most_popular.append(genre)\n",
    "    yearly_popular_genres[year] = {'genres':most_popular, 'Average Metacritic Score':popular_rating}"
   ]
  },
  {
   "cell_type": "code",
   "execution_count": 93,
   "metadata": {},
   "outputs": [
    {
     "data": {
      "text/html": [
       "<div>\n",
       "<style scoped>\n",
       "    .dataframe tbody tr th:only-of-type {\n",
       "        vertical-align: middle;\n",
       "    }\n",
       "\n",
       "    .dataframe tbody tr th {\n",
       "        vertical-align: top;\n",
       "    }\n",
       "\n",
       "    .dataframe thead th {\n",
       "        text-align: right;\n",
       "    }\n",
       "</style>\n",
       "<table border=\"1\" class=\"dataframe\">\n",
       "  <thead>\n",
       "    <tr style=\"text-align: right;\">\n",
       "      <th></th>\n",
       "      <th>genres</th>\n",
       "      <th>Average Metacritic Score</th>\n",
       "    </tr>\n",
       "  </thead>\n",
       "  <tbody>\n",
       "    <tr>\n",
       "      <th>2003</th>\n",
       "      <td>Action, Shooter, Arcade, First-Person, Sci-Fi, Modern,</td>\n",
       "      <td>72.0</td>\n",
       "    </tr>\n",
       "    <tr>\n",
       "      <th>2010</th>\n",
       "      <td>Action, Action Adventure, Adventure, Open-World, Modern,</td>\n",
       "      <td>79.0</td>\n",
       "    </tr>\n",
       "    <tr>\n",
       "      <th>2011</th>\n",
       "      <td>Action, Action Adventure, Adventure, Open-World, Modern,</td>\n",
       "      <td>78.0</td>\n",
       "    </tr>\n",
       "    <tr>\n",
       "      <th>2012</th>\n",
       "      <td>Action, Platformer, 2D, Puzzle,</td>\n",
       "      <td>75.0</td>\n",
       "    </tr>\n",
       "    <tr>\n",
       "      <th>2013</th>\n",
       "      <td>Action, General, Adventure, Point-and-Click,</td>\n",
       "      <td>80.0</td>\n",
       "    </tr>\n",
       "    <tr>\n",
       "      <th>2014</th>\n",
       "      <td>3D, Sandbox, Fantasy</td>\n",
       "      <td>89.0</td>\n",
       "    </tr>\n",
       "    <tr>\n",
       "      <th>2015</th>\n",
       "      <td>Arcade, First-Person, Role-Playing, Third-Person, ArcadeAction, Western-Style, PC-style RPG</td>\n",
       "      <td>89.0</td>\n",
       "    </tr>\n",
       "    <tr>\n",
       "      <th>2016</th>\n",
       "      <td>Sports, Team, Soccer, SurvivalAction Adventure, SurvivalAction</td>\n",
       "      <td>87.0</td>\n",
       "    </tr>\n",
       "    <tr>\n",
       "      <th>2017</th>\n",
       "      <td>PinballAction, Pinball</td>\n",
       "      <td>89.0</td>\n",
       "    </tr>\n",
       "    <tr>\n",
       "      <th>2018</th>\n",
       "      <td>Visual NovelAction, Visual NovelAction Adventure</td>\n",
       "      <td>85.0</td>\n",
       "    </tr>\n",
       "    <tr>\n",
       "      <th>2019</th>\n",
       "      <td>Stacking</td>\n",
       "      <td>90.0</td>\n",
       "    </tr>\n",
       "    <tr>\n",
       "      <th>2020</th>\n",
       "      <td>Business / TycoonSimulation</td>\n",
       "      <td>84.0</td>\n",
       "    </tr>\n",
       "    <tr>\n",
       "      <th>2021</th>\n",
       "      <td>GeneralAction Adventure, Open-WorldAction Adventure, GeneralAction, Open-WorldAction</td>\n",
       "      <td>87.0</td>\n",
       "    </tr>\n",
       "    <tr>\n",
       "      <th>2022</th>\n",
       "      <td>Japanese-Style, Japanese-StyleRole-Playing</td>\n",
       "      <td>95.0</td>\n",
       "    </tr>\n",
       "    <tr>\n",
       "      <th>2023</th>\n",
       "      <td>Action, Role-Playing, Action RPG,</td>\n",
       "      <td>0.0</td>\n",
       "    </tr>\n",
       "  </tbody>\n",
       "</table>\n",
       "</div>"
      ],
      "text/plain": [
       "                                                                                           genres  \\\n",
       "2003                                      Action, Shooter, Arcade, First-Person, Sci-Fi, Modern,    \n",
       "2010                                    Action, Action Adventure, Adventure, Open-World, Modern,    \n",
       "2011                                    Action, Action Adventure, Adventure, Open-World, Modern,    \n",
       "2012                                                             Action, Platformer, 2D, Puzzle,    \n",
       "2013                                                Action, General, Adventure, Point-and-Click,    \n",
       "2014                                                                         3D, Sandbox, Fantasy   \n",
       "2015  Arcade, First-Person, Role-Playing, Third-Person, ArcadeAction, Western-Style, PC-style RPG   \n",
       "2016                               Sports, Team, Soccer, SurvivalAction Adventure, SurvivalAction   \n",
       "2017                                                                       PinballAction, Pinball   \n",
       "2018                                             Visual NovelAction, Visual NovelAction Adventure   \n",
       "2019                                                                                     Stacking   \n",
       "2020                                                                  Business / TycoonSimulation   \n",
       "2021         GeneralAction Adventure, Open-WorldAction Adventure, GeneralAction, Open-WorldAction   \n",
       "2022                                                   Japanese-Style, Japanese-StyleRole-Playing   \n",
       "2023                                                           Action, Role-Playing, Action RPG,    \n",
       "\n",
       "     Average Metacritic Score  \n",
       "2003                     72.0  \n",
       "2010                     79.0  \n",
       "2011                     78.0  \n",
       "2012                     75.0  \n",
       "2013                     80.0  \n",
       "2014                     89.0  \n",
       "2015                     89.0  \n",
       "2016                     87.0  \n",
       "2017                     89.0  \n",
       "2018                     85.0  \n",
       "2019                     90.0  \n",
       "2020                     84.0  \n",
       "2021                     87.0  \n",
       "2022                     95.0  \n",
       "2023                      0.0  "
      ]
     },
     "execution_count": 93,
     "metadata": {},
     "output_type": "execute_result"
    }
   ],
   "source": [
    "yearly_popular_genres = pd.DataFrame(yearly_popular_genres).transpose()\n",
    "yearly_popular_genres['genres'] = yearly_popular_genres['genres'].map(lambda x: ', '.join(x))\n",
    "yearly_popular_genres"
   ]
  },
  {
   "cell_type": "markdown",
   "metadata": {},
   "source": [
    "Do metacritic scores and user scores align with each other?"
   ]
  },
  {
   "cell_type": "code",
   "execution_count": 94,
   "metadata": {},
   "outputs": [
    {
     "data": {
      "text/plain": [
       "<AxesSubplot:xlabel='metascritic_score', ylabel='users_score'>"
      ]
     },
     "execution_count": 94,
     "metadata": {},
     "output_type": "execute_result"
    },
    {
     "data": {
      "image/png": "[encoded data removed]",
      "text/plain": [
       "<Figure size 640x480 with 1 Axes>"
      ]
     },
     "metadata": {},
     "output_type": "display_data"
    }
   ],
   "source": [
    "sns.regplot(data=df, x='metascritic_score', y='users_score')"
   ]
  },
  {
   "cell_type": "code",
   "execution_count": 101,
   "metadata": {},
   "outputs": [],
   "source": [
    "games_with_zero_metascritic_score = df[df['metascritic_score']==0]"
   ]
  },
  {
   "cell_type": "code",
   "execution_count": 102,
   "metadata": {},
   "outputs": [],
   "source": [
    "games_with_zero_users_score = df[df['users_score']==0]"
   ]
  },
  {
   "cell_type": "markdown",
   "metadata": {},
   "source": [
    "Which developers consistently get the highest ratings? Is there a trend in popular genres among these high rated developers?"
   ]
  },
  {
   "cell_type": "code",
   "execution_count": 98,
   "metadata": {},
   "outputs": [],
   "source": [
    "all_developers = list(pd.Series(developer_count.keys()).unique())"
   ]
  },
  {
   "cell_type": "code",
   "execution_count": 104,
   "metadata": {},
   "outputs": [
    {
     "name": "stderr",
     "output_type": "stream",
     "text": [
      "/tmp/ipykernel_13003/1002868910.py:3: UserWarning: This pattern is interpreted as a regular expression, and has match groups. To actually get the groups, use str.extract.\n",
      "  avg = np.mean(df[df['developers'].str.contains(developer)]['metascritic_score'])\n"
     ]
    }
   ],
   "source": [
    "developer_ratings = {}\n",
    "for developer in all_developers:\n",
    "    avg = np.mean(df[df['developers'].str.contains(developer)]['metascritic_score'])\n",
    "    developer_ratings[developer] = avg\n",
    "developer_ratings = dict(sorted(developer_ratings.items(), key=lambda item: item[1], reverse=True))"
   ]
  },
  {
   "cell_type": "code",
   "execution_count": 108,
   "metadata": {},
   "outputs": [
    {
     "name": "stdout",
     "output_type": "stream",
     "text": [
      "Matt Makes Games Inc.    94.0\n",
      "SCE Santa Monica         93.0\n",
      "PLAYDEAD                 91.0\n",
      "Gearbox Software         91.0\n",
      "Motion Twin              91.0\n",
      "                         ... \n",
      "The Voices Games          0.0\n",
      "CUBETYPE                  0.0\n",
      "Milkstone Studios         0.0\n",
      "Skandivania Games         0.0\n",
      "Alan Zucconi              0.0\n",
      "Length: 1046, dtype: float64\n"
     ]
    }
   ],
   "source": [
    "developer_ratings_series = pd.Series(developer_ratings)\n",
    "print(developer_ratings_series)"
   ]
  },
  {
   "cell_type": "code",
   "execution_count": 109,
   "metadata": {},
   "outputs": [
    {
     "name": "stderr",
     "output_type": "stream",
     "text": [
      "/tmp/ipykernel_13003/2562103469.py:3: UserWarning: This pattern is interpreted as a regular expression, and has match groups. To actually get the groups, use str.extract.\n",
      "  avg = np.mean(df[df['developers'].str.contains(developer)]['users_score'])\n"
     ]
    }
   ],
   "source": [
    "developer_userratings = {}\n",
    "for developer in all_developers:\n",
    "    avg = np.mean(df[df['developers'].str.contains(developer)]['users_score'])\n",
    "    developer_userratings[developer] = avg\n",
    "developer_userratings = dict(sorted(developer_userratings.items(), key=lambda item: item[1], reverse=True))"
   ]
  },
  {
   "cell_type": "code",
   "execution_count": 110,
   "metadata": {},
   "outputs": [
    {
     "name": "stdout",
     "output_type": "stream",
     "text": [
      "Gemdrops                       9.6\n",
      "Sucker Punch                   9.1\n",
      "Digital Works Entertainment    9.1\n",
      "Tango Gameworks                8.9\n",
      "Deck Nine Games                8.1\n",
      "                              ... \n",
      "GameTrust                      0.0\n",
      "Tequila Works                  0.0\n",
      "CUBETYPE                       0.0\n",
      "Skandivania Games              0.0\n",
      "Alan Zucconi                   0.0\n",
      "Length: 1046, dtype: float64\n"
     ]
    }
   ],
   "source": [
    "developer_userratings_series = pd.Series(developer_userratings)\n",
    "print(developer_userratings_series)"
   ]
  },
  {
   "cell_type": "code",
   "execution_count": 112,
   "metadata": {},
   "outputs": [
    {
     "name": "stdout",
     "output_type": "stream",
     "text": [
      "Matt Makes Games Inc.    94.0\n",
      "SCE Santa Monica         93.0\n",
      "PLAYDEAD                 91.0\n",
      "Gearbox Software         91.0\n",
      "Motion Twin              91.0\n",
      "Bluepoint Games          91.0\n",
      "Deck Nine Games          82.0\n",
      "Jason Roberts            80.0\n",
      "Black Lab Games          76.0\n",
      "Slitherine               76.0\n",
      "dtype: float64\n"
     ]
    }
   ],
   "source": [
    "meta_top10 = dict(list(developer_ratings.items())[:10])\n",
    "meta_top10_series = pd.Series(meta_top10)\n",
    "print(meta_top10_series)"
   ]
  },
  {
   "cell_type": "code",
   "execution_count": 113,
   "metadata": {},
   "outputs": [
    {
     "name": "stdout",
     "output_type": "stream",
     "text": [
      "Gemdrops                       9.60\n",
      "Sucker Punch                   9.10\n",
      "Digital Works Entertainment    9.10\n",
      "Tango Gameworks                8.90\n",
      "Deck Nine Games                8.10\n",
      "Gears for Breakfast            8.00\n",
      "Hello There                    7.15\n",
      "Q Studios                      7.10\n",
      "Freshly Squeezed               7.00\n",
      "Jason Roberts                  6.80\n",
      "dtype: float64\n"
     ]
    }
   ],
   "source": [
    "user_top10 = dict(list(developer_userratings.items())[:10])\n",
    "user_top10_series = pd.Series(user_top10)\n",
    "print(user_top10_series)"
   ]
  },
  {
   "cell_type": "code",
   "execution_count": 116,
   "metadata": {},
   "outputs": [
    {
     "data": {
      "text/html": [
       "<div>\n",
       "<style scoped>\n",
       "    .dataframe tbody tr th:only-of-type {\n",
       "        vertical-align: middle;\n",
       "    }\n",
       "\n",
       "    .dataframe tbody tr th {\n",
       "        vertical-align: top;\n",
       "    }\n",
       "\n",
       "    .dataframe thead th {\n",
       "        text-align: right;\n",
       "    }\n",
       "</style>\n",
       "<table border=\"1\" class=\"dataframe\">\n",
       "  <thead>\n",
       "    <tr style=\"text-align: right;\">\n",
       "      <th></th>\n",
       "      <th>Ranking</th>\n",
       "      <th>User Choice</th>\n",
       "      <th>User Score</th>\n",
       "      <th>Metacritic Choice</th>\n",
       "      <th>Metacritic Score</th>\n",
       "    </tr>\n",
       "  </thead>\n",
       "  <tbody>\n",
       "    <tr>\n",
       "      <th>0</th>\n",
       "      <td>1</td>\n",
       "      <td>Gemdrops</td>\n",
       "      <td>9.60</td>\n",
       "      <td>Matt Makes Games Inc.</td>\n",
       "      <td>94.0</td>\n",
       "    </tr>\n",
       "    <tr>\n",
       "      <th>1</th>\n",
       "      <td>2</td>\n",
       "      <td>Sucker Punch</td>\n",
       "      <td>9.10</td>\n",
       "      <td>SCE Santa Monica</td>\n",
       "      <td>93.0</td>\n",
       "    </tr>\n",
       "    <tr>\n",
       "      <th>2</th>\n",
       "      <td>3</td>\n",
       "      <td>Digital Works Entertainment</td>\n",
       "      <td>9.10</td>\n",
       "      <td>PLAYDEAD</td>\n",
       "      <td>91.0</td>\n",
       "    </tr>\n",
       "    <tr>\n",
       "      <th>3</th>\n",
       "      <td>4</td>\n",
       "      <td>Tango Gameworks</td>\n",
       "      <td>8.90</td>\n",
       "      <td>Gearbox Software</td>\n",
       "      <td>91.0</td>\n",
       "    </tr>\n",
       "    <tr>\n",
       "      <th>4</th>\n",
       "      <td>5</td>\n",
       "      <td>Deck Nine Games</td>\n",
       "      <td>8.10</td>\n",
       "      <td>Motion Twin</td>\n",
       "      <td>91.0</td>\n",
       "    </tr>\n",
       "    <tr>\n",
       "      <th>5</th>\n",
       "      <td>6</td>\n",
       "      <td>Gears for Breakfast</td>\n",
       "      <td>8.00</td>\n",
       "      <td>Bluepoint Games</td>\n",
       "      <td>91.0</td>\n",
       "    </tr>\n",
       "    <tr>\n",
       "      <th>6</th>\n",
       "      <td>7</td>\n",
       "      <td>Hello There</td>\n",
       "      <td>7.15</td>\n",
       "      <td>Deck Nine Games</td>\n",
       "      <td>82.0</td>\n",
       "    </tr>\n",
       "    <tr>\n",
       "      <th>7</th>\n",
       "      <td>8</td>\n",
       "      <td>Q Studios</td>\n",
       "      <td>7.10</td>\n",
       "      <td>Jason Roberts</td>\n",
       "      <td>80.0</td>\n",
       "    </tr>\n",
       "    <tr>\n",
       "      <th>8</th>\n",
       "      <td>9</td>\n",
       "      <td>Freshly Squeezed</td>\n",
       "      <td>7.00</td>\n",
       "      <td>Black Lab Games</td>\n",
       "      <td>76.0</td>\n",
       "    </tr>\n",
       "    <tr>\n",
       "      <th>9</th>\n",
       "      <td>10</td>\n",
       "      <td>Jason Roberts</td>\n",
       "      <td>6.80</td>\n",
       "      <td>Slitherine</td>\n",
       "      <td>76.0</td>\n",
       "    </tr>\n",
       "  </tbody>\n",
       "</table>\n",
       "</div>"
      ],
      "text/plain": [
       "   Ranking                  User Choice  User Score      Metacritic Choice  \\\n",
       "0        1                     Gemdrops        9.60  Matt Makes Games Inc.   \n",
       "1        2                 Sucker Punch        9.10       SCE Santa Monica   \n",
       "2        3  Digital Works Entertainment        9.10               PLAYDEAD   \n",
       "3        4              Tango Gameworks        8.90       Gearbox Software   \n",
       "4        5              Deck Nine Games        8.10            Motion Twin   \n",
       "5        6          Gears for Breakfast        8.00        Bluepoint Games   \n",
       "6        7                  Hello There        7.15        Deck Nine Games   \n",
       "7        8                    Q Studios        7.10          Jason Roberts   \n",
       "8        9             Freshly Squeezed        7.00        Black Lab Games   \n",
       "9       10                Jason Roberts        6.80             Slitherine   \n",
       "\n",
       "   Metacritic Score  \n",
       "0              94.0  \n",
       "1              93.0  \n",
       "2              91.0  \n",
       "3              91.0  \n",
       "4              91.0  \n",
       "5              91.0  \n",
       "6              82.0  \n",
       "7              80.0  \n",
       "8              76.0  \n",
       "9              76.0  "
      ]
     },
     "execution_count": 116,
     "metadata": {},
     "output_type": "execute_result"
    }
   ],
   "source": [
    "rankings_df = pd.DataFrame({'Ranking':range(1,11),'User Choice':user_top10.keys(), 'User Score':user_top10.values(), \n",
    "              'Metacritic Choice':meta_top10.keys(), 'Metacritic Score':meta_top10.values()})\n",
    "rankings_df"
   ]
  },
  {
   "cell_type": "markdown",
   "metadata": {},
   "source": [
    "Do the top 10 user rated developers develop more games with certain genres? How does this trend appear in top 10 metacritic rated developers?"
   ]
  },
  {
   "cell_type": "code",
   "execution_count": 131,
   "metadata": {},
   "outputs": [
    {
     "data": {
      "text/html": [
       "<div>\n",
       "<style scoped>\n",
       "    .dataframe tbody tr th:only-of-type {\n",
       "        vertical-align: middle;\n",
       "    }\n",
       "\n",
       "    .dataframe tbody tr th {\n",
       "        vertical-align: top;\n",
       "    }\n",
       "\n",
       "    .dataframe thead th {\n",
       "        text-align: right;\n",
       "    }\n",
       "</style>\n",
       "<table border=\"1\" class=\"dataframe\">\n",
       "  <thead>\n",
       "    <tr style=\"text-align: right;\">\n",
       "      <th></th>\n",
       "      <th>Rank #1</th>\n",
       "      <th>Rank #2</th>\n",
       "      <th>Rank #3</th>\n",
       "    </tr>\n",
       "    <tr>\n",
       "      <th>developer</th>\n",
       "      <th></th>\n",
       "      <th></th>\n",
       "      <th></th>\n",
       "    </tr>\n",
       "  </thead>\n",
       "  <tbody>\n",
       "    <tr>\n",
       "      <th>Gemdrops</th>\n",
       "      <td>General</td>\n",
       "      <td>Role-Playing</td>\n",
       "      <td>Action RPGRole-Playing</td>\n",
       "    </tr>\n",
       "    <tr>\n",
       "      <th>Sucker Punch</th>\n",
       "      <td>General</td>\n",
       "      <td>Action Adventure</td>\n",
       "      <td>Open-World</td>\n",
       "    </tr>\n",
       "    <tr>\n",
       "      <th>Digital Works Entertainment</th>\n",
       "      <td>CompilationMiscellaneous</td>\n",
       "      <td>Miscellaneous</td>\n",
       "      <td>Compilation</td>\n",
       "    </tr>\n",
       "    <tr>\n",
       "      <th>Tango Gameworks</th>\n",
       "      <td>Action Adventure</td>\n",
       "      <td>SurvivalAction Adventure</td>\n",
       "      <td>Survival</td>\n",
       "    </tr>\n",
       "    <tr>\n",
       "      <th>Deck Nine Games</th>\n",
       "      <td>Action Adventure</td>\n",
       "      <td>GeneralAction Adventure</td>\n",
       "      <td>General</td>\n",
       "    </tr>\n",
       "    <tr>\n",
       "      <th>Gears for Breakfast</th>\n",
       "      <td>Action</td>\n",
       "      <td>Platformer</td>\n",
       "      <td>3D</td>\n",
       "    </tr>\n",
       "    <tr>\n",
       "      <th>Hello There</th>\n",
       "      <td>Rhythm</td>\n",
       "      <td>Action</td>\n",
       "      <td>MusicAction</td>\n",
       "    </tr>\n",
       "    <tr>\n",
       "      <th>Q Studios</th>\n",
       "      <td>Role-Playing</td>\n",
       "      <td>Action RPGRole-Playing</td>\n",
       "      <td>Action RPG</td>\n",
       "    </tr>\n",
       "    <tr>\n",
       "      <th>Freshly Squeezed</th>\n",
       "      <td>Adventure</td>\n",
       "      <td>3D</td>\n",
       "      <td>Third-Person</td>\n",
       "    </tr>\n",
       "    <tr>\n",
       "      <th>Jason Roberts</th>\n",
       "      <td>Puzzle</td>\n",
       "      <td>GeneralPuzzle</td>\n",
       "      <td>General</td>\n",
       "    </tr>\n",
       "  </tbody>\n",
       "</table>\n",
       "</div>"
      ],
      "text/plain": [
       "                                              Rank #1  \\\n",
       "developer                                               \n",
       "Gemdrops                                      General   \n",
       "Sucker Punch                                  General   \n",
       "Digital Works Entertainment  CompilationMiscellaneous   \n",
       "Tango Gameworks                      Action Adventure   \n",
       "Deck Nine Games                      Action Adventure   \n",
       "Gears for Breakfast                            Action   \n",
       "Hello There                                    Rhythm   \n",
       "Q Studios                                Role-Playing   \n",
       "Freshly Squeezed                            Adventure   \n",
       "Jason Roberts                                  Puzzle   \n",
       "\n",
       "                                              Rank #2                 Rank #3  \n",
       "developer                                                                      \n",
       "Gemdrops                                 Role-Playing  Action RPGRole-Playing  \n",
       "Sucker Punch                         Action Adventure              Open-World  \n",
       "Digital Works Entertainment             Miscellaneous             Compilation  \n",
       "Tango Gameworks              SurvivalAction Adventure                Survival  \n",
       "Deck Nine Games               GeneralAction Adventure                 General  \n",
       "Gears for Breakfast                        Platformer                      3D  \n",
       "Hello There                                    Action             MusicAction  \n",
       "Q Studios                      Action RPGRole-Playing              Action RPG  \n",
       "Freshly Squeezed                                   3D            Third-Person  \n",
       "Jason Roberts                           GeneralPuzzle                 General  "
      ]
     },
     "execution_count": 131,
     "metadata": {},
     "output_type": "execute_result"
    }
   ],
   "source": [
    "fav_genres = {}\n",
    "for developer in list(user_top10.keys()):\n",
    "    dev_df = df[df['developers'].str.contains(developer)]\n",
    "    genre_counts = col_unique_count(dev_df['genres'], True)\n",
    "    top_3 = list(genre_counts.keys())[:3]\n",
    "    fav_genres[developer] = top_3\n",
    "\n",
    "fav_genres_df = pd.DataFrame(fav_genres).transpose()\n",
    "fav_genres_df.index.name = 'developer'\n",
    "fav_genres_df.columns = ['Rank #1', 'Rank #2', 'Rank #3']\n",
    "fav_genres_df"
   ]
  },
  {
   "cell_type": "code",
   "execution_count": 139,
   "metadata": {},
   "outputs": [
    {
     "name": "stdout",
     "output_type": "stream",
     "text": [
      "Matt Makes Games Inc.                                [Action, Platformer, 2D]\n",
      "SCE Santa Monica                                   [Action Adventure, Linear]\n",
      "PLAYDEAD                                             [Action, Platformer, 2D]\n",
      "Gearbox Software                              [Action, Shooter, First-Person]\n",
      "Motion Twin                                    [Platformer, 2DAction, Action]\n",
      "Bluepoint Games                                   [Action Adventure, General]\n",
      "Deck Nine Games          [Action Adventure, GeneralAction Adventure, General]\n",
      "Jason Roberts                                [Puzzle, GeneralPuzzle, General]\n",
      "Black Lab Games                               [Turn-Based, General, Strategy]\n",
      "Slitherine                                    [Turn-Based, General, Strategy]\n",
      "dtype: object\n"
     ]
    }
   ],
   "source": [
    "fav_genres_meta = {}\n",
    "for developer in list(meta_top10.keys()):\n",
    "    dev_df = df[df['developers'].str.contains(developer)]\n",
    "    genre_counts = col_unique_count(dev_df['genres'], True)\n",
    "    top_3 = list(genre_counts.keys())[:3]\n",
    "    fav_genres_meta[developer] = top_3\n",
    "\n",
    "fav_genres_meta_series = pd.Series(fav_genres_meta)\n",
    "print(fav_genres_meta_series)"
   ]
  },
  {
   "cell_type": "markdown",
   "metadata": {},
   "source": [
    "Correlation between different video game features and the ratings produced"
   ]
  },
  {
   "cell_type": "code",
   "execution_count": 140,
   "metadata": {},
   "outputs": [],
   "source": [
    "df_ratings = df.drop(['title','console','esrb_rating','index','release_date','publishers','developers',\n",
    "                      'rating','genres'], axis=1)"
   ]
  },
  {
   "cell_type": "code",
   "execution_count": 141,
   "metadata": {},
   "outputs": [
    {
     "data": {
      "text/html": [
       "<div>\n",
       "<style scoped>\n",
       "    .dataframe tbody tr th:only-of-type {\n",
       "        vertical-align: middle;\n",
       "    }\n",
       "\n",
       "    .dataframe tbody tr th {\n",
       "        vertical-align: top;\n",
       "    }\n",
       "\n",
       "    .dataframe thead th {\n",
       "        text-align: right;\n",
       "    }\n",
       "</style>\n",
       "<table border=\"1\" class=\"dataframe\">\n",
       "  <thead>\n",
       "    <tr style=\"text-align: right;\">\n",
       "      <th></th>\n",
       "      <th>alcohol_reference</th>\n",
       "      <th>animated_blood</th>\n",
       "      <th>blood</th>\n",
       "      <th>blood_and_gore</th>\n",
       "      <th>cartoon_violence</th>\n",
       "      <th>crude_humor</th>\n",
       "      <th>drug_reference</th>\n",
       "      <th>fantasy_violence</th>\n",
       "      <th>intense_violence</th>\n",
       "      <th>language</th>\n",
       "      <th>...</th>\n",
       "      <th>sexual_themes</th>\n",
       "      <th>simulated_gambling</th>\n",
       "      <th>strong_language</th>\n",
       "      <th>strong_sexual_content</th>\n",
       "      <th>suggestive_themes</th>\n",
       "      <th>use_of_alcohol</th>\n",
       "      <th>use_of_drugs_and_alcohol</th>\n",
       "      <th>violence</th>\n",
       "      <th>metascritic_score</th>\n",
       "      <th>users_score</th>\n",
       "    </tr>\n",
       "  </thead>\n",
       "  <tbody>\n",
       "    <tr>\n",
       "      <th>1</th>\n",
       "      <td>0</td>\n",
       "      <td>0</td>\n",
       "      <td>0</td>\n",
       "      <td>0</td>\n",
       "      <td>0</td>\n",
       "      <td>0</td>\n",
       "      <td>0</td>\n",
       "      <td>0</td>\n",
       "      <td>0</td>\n",
       "      <td>0</td>\n",
       "      <td>...</td>\n",
       "      <td>0</td>\n",
       "      <td>0</td>\n",
       "      <td>0</td>\n",
       "      <td>0</td>\n",
       "      <td>0</td>\n",
       "      <td>0</td>\n",
       "      <td>0</td>\n",
       "      <td>0</td>\n",
       "      <td>61.0</td>\n",
       "      <td>5.5</td>\n",
       "    </tr>\n",
       "    <tr>\n",
       "      <th>2</th>\n",
       "      <td>0</td>\n",
       "      <td>1</td>\n",
       "      <td>0</td>\n",
       "      <td>0</td>\n",
       "      <td>0</td>\n",
       "      <td>0</td>\n",
       "      <td>0</td>\n",
       "      <td>0</td>\n",
       "      <td>1</td>\n",
       "      <td>0</td>\n",
       "      <td>...</td>\n",
       "      <td>0</td>\n",
       "      <td>0</td>\n",
       "      <td>0</td>\n",
       "      <td>0</td>\n",
       "      <td>0</td>\n",
       "      <td>0</td>\n",
       "      <td>0</td>\n",
       "      <td>0</td>\n",
       "      <td>82.0</td>\n",
       "      <td>6.6</td>\n",
       "    </tr>\n",
       "    <tr>\n",
       "      <th>3</th>\n",
       "      <td>0</td>\n",
       "      <td>0</td>\n",
       "      <td>1</td>\n",
       "      <td>0</td>\n",
       "      <td>0</td>\n",
       "      <td>0</td>\n",
       "      <td>0</td>\n",
       "      <td>0</td>\n",
       "      <td>0</td>\n",
       "      <td>0</td>\n",
       "      <td>...</td>\n",
       "      <td>0</td>\n",
       "      <td>0</td>\n",
       "      <td>1</td>\n",
       "      <td>0</td>\n",
       "      <td>1</td>\n",
       "      <td>0</td>\n",
       "      <td>0</td>\n",
       "      <td>0</td>\n",
       "      <td>83.0</td>\n",
       "      <td>8.4</td>\n",
       "    </tr>\n",
       "  </tbody>\n",
       "</table>\n",
       "<p>3 rows × 33 columns</p>\n",
       "</div>"
      ],
      "text/plain": [
       "   alcohol_reference  animated_blood  blood  blood_and_gore  cartoon_violence  \\\n",
       "1                  0               0      0               0                 0   \n",
       "2                  0               1      0               0                 0   \n",
       "3                  0               0      1               0                 0   \n",
       "\n",
       "   crude_humor  drug_reference  fantasy_violence  intense_violence  language  \\\n",
       "1            0               0                 0                 0         0   \n",
       "2            0               0                 0                 1         0   \n",
       "3            0               0                 0                 0         0   \n",
       "\n",
       "   ...  sexual_themes  simulated_gambling  strong_language  \\\n",
       "1  ...              0                   0                0   \n",
       "2  ...              0                   0                0   \n",
       "3  ...              0                   0                1   \n",
       "\n",
       "   strong_sexual_content  suggestive_themes  use_of_alcohol  \\\n",
       "1                      0                  0               0   \n",
       "2                      0                  0               0   \n",
       "3                      0                  1               0   \n",
       "\n",
       "   use_of_drugs_and_alcohol  violence  metascritic_score  users_score  \n",
       "1                         0         0               61.0          5.5  \n",
       "2                         0         0               82.0          6.6  \n",
       "3                         0         0               83.0          8.4  \n",
       "\n",
       "[3 rows x 33 columns]"
      ]
     },
     "execution_count": 141,
     "metadata": {},
     "output_type": "execute_result"
    }
   ],
   "source": [
    "df_ratings.head(3)"
   ]
  },
  {
   "cell_type": "code",
   "execution_count": 142,
   "metadata": {
    "scrolled": false
   },
   "outputs": [
    {
     "data": {
      "image/png": "[encoded data removed]",
      "text/plain": [
       "<Figure size 1600x1000 with 2 Axes>"
      ]
     },
     "metadata": {},
     "output_type": "display_data"
    }
   ],
   "source": [
    "plt.figure(figsize=(16, 10))\n",
    "corr_heatmap = sns.heatmap(df_ratings.corr(), annot=False, cmap='Blues')\n",
    "plt.show()"
   ]
  },
  {
   "cell_type": "markdown",
   "metadata": {},
   "source": [
    "What features have a negative correlation with ratings?"
   ]
  },
  {
   "cell_type": "code",
   "execution_count": 143,
   "metadata": {},
   "outputs": [
    {
     "data": {
      "text/html": [
       "<div>\n",
       "<style scoped>\n",
       "    .dataframe tbody tr th:only-of-type {\n",
       "        vertical-align: middle;\n",
       "    }\n",
       "\n",
       "    .dataframe tbody tr th {\n",
       "        vertical-align: top;\n",
       "    }\n",
       "\n",
       "    .dataframe thead th {\n",
       "        text-align: right;\n",
       "    }\n",
       "</style>\n",
       "<table border=\"1\" class=\"dataframe\">\n",
       "  <thead>\n",
       "    <tr style=\"text-align: right;\">\n",
       "      <th></th>\n",
       "      <th>metascritic_score</th>\n",
       "      <th>users_score</th>\n",
       "    </tr>\n",
       "  </thead>\n",
       "  <tbody>\n",
       "    <tr>\n",
       "      <th>crude_humor</th>\n",
       "      <td>-0.017203</td>\n",
       "      <td>-0.024133</td>\n",
       "    </tr>\n",
       "    <tr>\n",
       "      <th>fantasy_violence</th>\n",
       "      <td>-0.005004</td>\n",
       "      <td>-0.044614</td>\n",
       "    </tr>\n",
       "    <tr>\n",
       "      <th>mild_fantasy_violence</th>\n",
       "      <td>-0.071661</td>\n",
       "      <td>-0.071011</td>\n",
       "    </tr>\n",
       "    <tr>\n",
       "      <th>mild_language</th>\n",
       "      <td>-0.008560</td>\n",
       "      <td>-0.010781</td>\n",
       "    </tr>\n",
       "    <tr>\n",
       "      <th>mild_lyrics</th>\n",
       "      <td>-0.017607</td>\n",
       "      <td>-0.008654</td>\n",
       "    </tr>\n",
       "    <tr>\n",
       "      <th>no_descriptors</th>\n",
       "      <td>-0.128730</td>\n",
       "      <td>-0.125819</td>\n",
       "    </tr>\n",
       "  </tbody>\n",
       "</table>\n",
       "</div>"
      ],
      "text/plain": [
       "                       metascritic_score  users_score\n",
       "crude_humor                    -0.017203    -0.024133\n",
       "fantasy_violence               -0.005004    -0.044614\n",
       "mild_fantasy_violence          -0.071661    -0.071011\n",
       "mild_language                  -0.008560    -0.010781\n",
       "mild_lyrics                    -0.017607    -0.008654\n",
       "no_descriptors                 -0.128730    -0.125819"
      ]
     },
     "execution_count": 143,
     "metadata": {},
     "output_type": "execute_result"
    }
   ],
   "source": [
    "df_ratings.corr()[(df_ratings.corr()['metascritic_score']<0) & (df_ratings.corr()['users_score']<0)][['metascritic_score','users_score']]"
   ]
  },
  {
   "cell_type": "markdown",
   "metadata": {},
   "source": [
    "Categorizing the total number of movies according to ESRB Rating"
   ]
  },
  {
   "cell_type": "code",
   "execution_count": null,
   "metadata": {},
   "outputs": [],
   "source": [
    "esrb_genres = df[['esrb_rating', 'genres']]\n",
    "esrb_value_counts = esrb_genres['esrb_rating'].value_counts().to_dict()\n",
    "\n",
    "fig = plt.figure()\n",
    "ax = fig.add_axes([0,0,1,1])\n",
    "data_points = esrb_value_counts.values()\n",
    "labels_index = esrb_value_counts.keys()\n",
    "ax.bar(labels_index, data_points, color=['cornflowerblue','mediumturquoise', 'skyblue', 'palegreen'])\n",
    "plt.xlabel('ESRB Rating')\n",
    "plt.ylabel('Total Games')\n",
    "plt.show()"
   ]
  },
  {
   "cell_type": "code",
   "execution_count": null,
   "metadata": {},
   "outputs": [],
   "source": [
    "esrb = list(df['esrb_rating'].unique())\n",
    "esrb_userscore = {}\n",
    "for rat in esrb:\n",
    "    avg = np.mean(df[df['esrb_rating'].str.contains(rat)]['users_score'])\n",
    "    esrb_userscore[rat] = avg\n",
    "esrb_userscore = dict(sorted(esrb_userscore.items(), key=lambda item: item[1], reverse=True))\n",
    "esrb_userscore = pd.Series(esrb_userscore).plot(kind='bar')\n",
    "plt.xlabel('ESRB Rating')\n",
    "plt.ylabel('Average User Score')"
   ]
  },
  {
   "cell_type": "code",
   "execution_count": null,
   "metadata": {},
   "outputs": [],
   "source": [
    "esrb = list(df['esrb_rating'].unique())\n",
    "esrb_metacritic = {}\n",
    "for rat in esrb:\n",
    "    avg = np.mean(df[df['esrb_rating'].str.contains(rat)]['metascritic_score'])\n",
    "    esrb_metacritic[rat]=avg\n",
    "esrb_metacritic = dict(sorted(esrb_metacritic.items(), key=lambda item: item[1], reverse=True))\n",
    "pd.Series(esrb_metacritic).plot(kind='bar')\n",
    "plt.xlabel('ESRB Rating')\n",
    "plt.ylabel('Average Metacritic Score')"
   ]
  },
  {
   "cell_type": "code",
   "execution_count": null,
   "metadata": {},
   "outputs": [],
   "source": [
    "month_map = {1:'Jan',2:'Feb',3:'Mar',4:'Apr',5:'May',6:'Jun',7:'Jul',8:'Aug',9:'Sep',10:'Oct',11:'Nov',12:'Dec'}\n",
    "esrb_trend_months = {}\n",
    "for month in range(1,13):\n",
    "    month_df = df[df['release_date'].dt.month == month]['esrb_rating'].value_counts().to_dict()\n",
    "    esrb_trend_months[month_map[month]] = month_df\n",
    "'''\n",
    "We can represent this information for every esrb rating\n",
    "individually over the months\n",
    "'''\n",
    "esrb_T = {}\n",
    "esrb_ET = {}\n",
    "esrb_M = {}\n",
    "esrb_E = {}\n",
    "for month in esrb_trend_months.items():\n",
    "    esrb_T[month[0]] = month[1]['T']\n",
    "    esrb_ET[month[0]] = month[1]['ET']\n",
    "    esrb_M[month[0]] = month[1]['M']\n",
    "    esrb_E[month[0]] = month[1]['E']"
   ]
  },
  {
   "cell_type": "markdown",
   "metadata": {},
   "source": [
    "Trend of E-rated games over the months"
   ]
  },
  {
   "cell_type": "code",
   "execution_count": null,
   "metadata": {},
   "outputs": [],
   "source": [
    "fig = plt.figure()\n",
    "ax = fig.add_axes([0,0,1,1])\n",
    "data_points = esrb_E.values()\n",
    "labels_index = esrb_E.keys()\n",
    "ax.plot(labels_index, data_points)\n",
    "plt.title('Trend of E-rated games over the months')\n",
    "plt.xlabel('Months')\n",
    "plt.ylabel('Number of E-rated games')\n",
    "plt.show()"
   ]
  },
  {
   "cell_type": "code",
   "execution_count": null,
   "metadata": {},
   "outputs": [],
   "source": [
    "fig = plt.figure()\n",
    "ax = fig.add_axes([0,0,1,1])\n",
    "data_points = esrb_M.values()\n",
    "labels_index = esrb_M.keys()\n",
    "ax.plot(labels_index, data_points)\n",
    "plt.title('Trend of M-rated games over the months')\n",
    "plt.xlabel('Months')\n",
    "plt.ylabel('Number of M-rated games')\n",
    "plt.show()"
   ]
  },
  {
   "cell_type": "markdown",
   "metadata": {},
   "source": [
    "One interesting observation that could be drawn using the above plot is how the number of M-rated games peaked in October. This is when halloween takes place, and the content produced during this time around is also M-rated. Hence, there is an evident trend observed here."
   ]
  },
  {
   "cell_type": "code",
   "execution_count": null,
   "metadata": {},
   "outputs": [],
   "source": [
    "fig = plt.figure()\n",
    "ax = fig.add_axes([0,0,1,1])\n",
    "data_points = esrb_ET.values()\n",
    "labels_index = esrb_ET.keys()\n",
    "ax.plot(labels_index, data_points)\n",
    "plt.title('Trend of ET-rated games over the months')\n",
    "plt.xlabel('Months')\n",
    "plt.ylabel('Number of ET-rated games')\n",
    "plt.show()"
   ]
  },
  {
   "cell_type": "code",
   "execution_count": null,
   "metadata": {},
   "outputs": [],
   "source": [
    "fig = plt.figure()\n",
    "ax = fig.add_axes([0,0,1,1])\n",
    "data_points = esrb_T.values()\n",
    "labels_index = esrb_T.keys()\n",
    "ax.plot(labels_index, data_points)\n",
    "plt.title('Trend of T-rated games over the months')\n",
    "plt.xlabel('Months')\n",
    "plt.ylabel('Number of T-rated games')\n",
    "plt.show()"
   ]
  },
  {
   "cell_type": "markdown",
   "metadata": {},
   "source": [
    "Comparing the plots"
   ]
  },
  {
   "cell_type": "code",
   "execution_count": null,
   "metadata": {},
   "outputs": [],
   "source": [
    "fig = plt.figure()\n",
    "ax = fig.add_axes([0,0,1,1])\n",
    "labels_index = np.array(range(1,13))\n",
    "\n",
    "X_ = np.linspace(np.min(labels_index), np.max(labels_index), 500)\n",
    "\n",
    "cubic_interpolation_model = interp1d(labels_index, np.array(list(esrb_E.values())), kind = \"cubic\")\n",
    "Y_= cubic_interpolation_model(X_)\n",
    "ax.plot(X_, Y_)\n",
    "\n",
    "cubic_interpolation_model = interp1d(labels_index, np.array(list(esrb_M.values())), kind = \"cubic\")\n",
    "Y_= cubic_interpolation_model(X_)\n",
    "ax.plot(X_, Y_)\n",
    "\n",
    "cubic_interpolation_model = interp1d(labels_index, np.array(list(esrb_ET.values())), kind = \"cubic\")\n",
    "Y_= cubic_interpolation_model(X_)\n",
    "ax.plot(X_, Y_)\n",
    "\n",
    "cubic_interpolation_model = interp1d(labels_index, np.array(list(esrb_T.values())), kind = \"cubic\")\n",
    "Y_= cubic_interpolation_model(X_)\n",
    "ax.plot(X_, Y_)\n",
    "\n",
    "plt.xticks(np.arange(1, 13, 1.0))\n",
    "ax.set_xticklabels(list(month_map.values()))\n",
    "plt.title('Trend of different rated games over the months')\n",
    "plt.xlabel('Months')\n",
    "plt.ylabel('Number of games')\n",
    "plt.legend(['E-rated','M-rated','ET-rated','T-rated'])\n",
    "plt.show()"
   ]
  },
  {
   "cell_type": "markdown",
   "metadata": {},
   "source": [
    "**Observation:** The production of all games peaked around Feb-Mar and Sep-Oct before going on a decline. M-rated and ET-rated games saw a surge in May before a sudden drop, while the release of E-rated and T-rated games on the other hand remained constant over May-Jun."
   ]
  }
 ],
 "metadata": {
  "kernelspec": {
   "display_name": "Python 3 (ipykernel)",
   "language": "python",
   "name": "python3"
  },
  "language_info": {
   "codemirror_mode": {
    "name": "ipython",
    "version": 3
   },
   "file_extension": ".py",
   "mimetype": "text/x-python",
   "name": "python",
   "nbconvert_exporter": "python",
   "pygments_lexer": "ipython3",
   "version": "3.10.6"
  },
  "vscode": {
   "interpreter": {
    "hash": "e7370f93d1d0cde622a1f8e1c04877d8463912d04d973331ad4851f04de6915a"
   }
  }
 },
 "nbformat": 4,
 "nbformat_minor": 2
}
