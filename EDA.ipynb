{
 "cells": [
  {
   "cell_type": "markdown",
   "metadata": {},
   "source": [
    "# Exploratory Data Analysis"
   ]
  },
  {
   "cell_type": "markdown",
   "metadata": {},
   "source": [
    "### Code Authors:\n",
    "Emaan Saqib\n",
    "\n",
    "Harris Ahmad"
   ]
  },
  {
   "cell_type": "code",
   "execution_count": null,
   "metadata": {},
   "outputs": [],
   "source": [
    "import pandas as pd\n",
    "import numpy as np\n",
    "from itertools import chain\n",
    "from pprint import pprint"
   ]
  },
  {
   "cell_type": "code",
   "execution_count": null,
   "metadata": {},
   "outputs": [],
   "source": [
    "# making the title column as index since it is unique for every row\n",
    "df = pd.read_csv('dataset.csv')\n",
    "# resetting the index so it starts from 1\n",
    "df.index = np.arange(1, len(df) + 1)\n",
    "# dropping unnamed columns that have nan as their only value\n",
    "df.drop(['Unnamed: 34', 'Unnamed: 35', 'Unnamed: 36'], axis=1, inplace=True)"
   ]
  },
  {
   "cell_type": "markdown",
   "metadata": {},
   "source": [
    "## Data Cleaning & Preprocessing"
   ]
  },
  {
   "cell_type": "code",
   "execution_count": null,
   "metadata": {},
   "outputs": [],
   "source": [
    "# dropping all rows with nan values\n",
    "df = df.dropna(axis=0)"
   ]
  },
  {
   "cell_type": "code",
   "execution_count": null,
   "metadata": {},
   "outputs": [],
   "source": [
    "def col_unique_count(col: pd.Series, ordered=False) -> dict:\n",
    "    temp = col.to_list()\n",
    "    temp = [list(t.split(',')) for t in temp]\n",
    "    temp = list(chain.from_iterable(temp))\n",
    "    temp = [t.strip() for t in temp]\n",
    "\n",
    "    count = {}\n",
    "    for t in temp:\n",
    "        if t in count:\n",
    "            count[t] += 1\n",
    "        else:\n",
    "            count[t] = 1\n",
    "    # if sorted flag is true\n",
    "    return count"
   ]
  },
  {
   "cell_type": "markdown",
   "metadata": {},
   "source": [
    "#### Classifying games according to genres.\n",
    "Every unique genre would be on the x-axis and the count of each would be on the y-axis.\n",
    "Notice how every genre is a non-atomic value meaning that it could be divided into multiple genres (simplified).\n",
    "\n",
    "* some genres are vague to a great degree\n",
    "* since there are a lot of redundant values, we can select top 10 most popular genres"
   ]
  },
  {
   "cell_type": "code",
   "execution_count": null,
   "metadata": {},
   "outputs": [],
   "source": [
    "# this function returns the unique count of genres in \n",
    "genre_count = col_unique_count(df['genres'], True)\n"
   ]
  },
  {
   "cell_type": "markdown",
   "metadata": {},
   "source": [
    "How many games do developers on average release and what is their mean rating? Do developers with more games have a higher mean rating?"
   ]
  },
  {
   "cell_type": "code",
   "execution_count": null,
   "metadata": {},
   "outputs": [],
   "source": [
    "developer_count = col_unique_count(df['developers'], True)\n",
    "pprint(developer_count)"
   ]
  }
 ],
 "metadata": {
  "kernelspec": {
   "display_name": "Python 3.10.6 64-bit",
   "language": "python",
   "name": "python3"
  },
  "language_info": {
   "codemirror_mode": {
    "name": "ipython",
    "version": 3
   },
   "file_extension": ".py",
   "mimetype": "text/x-python",
   "name": "python",
   "nbconvert_exporter": "python",
   "pygments_lexer": "ipython3",
   "version": "3.10.6"
  },
  "orig_nbformat": 4,
  "vscode": {
   "interpreter": {
    "hash": "916dbcbb3f70747c44a77c7bcd40155683ae19c65e1c03b4aa3499c5328201f1"
   }
  }
 },
 "nbformat": 4,
 "nbformat_minor": 2
}
